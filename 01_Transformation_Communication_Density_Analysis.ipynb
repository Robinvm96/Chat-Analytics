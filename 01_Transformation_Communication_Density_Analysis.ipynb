{
 "cells": [
  {
   "cell_type": "code",
   "execution_count": null,
   "id": "2fee1cb1-a037-4b27-9135-a7cae2ee6703",
   "metadata": {},
   "outputs": [],
   "source": [
    "import pandas as pd\n",
    "import glob\n",
    "import os\n",
    "\n",
    "folder_path = r\"C:\\Users\\Robin\\Whatsapp_chats\"  #Enter your folderpath Folder path here\n",
    "\n",
    "# Returns a list with all file_paths in the folder with .txt ending\n",
    "all_files = glob.glob(os.path.join(folder_path, \"*.txt\"))\n",
    "\n",
    "# Create empty list for DataFrames\n",
    "dfs = []\n",
    "\n",
    "# Read all filed, add the file name as column and append these to the list dfs\n",
    "for file in all_files:\n",
    "    df = pd.read_csv(file, sep='\\t', engine='python', header=None, names=['Text'], on_bad_lines='warn', encoding='utf-8')\n",
    "    df['Filename'] = os.path.basename(file)  # Dateiname hinzufügen\n",
    "    dfs.append(df)\n",
    "\n",
    "# Combine all DataFrames with the concat command.\n",
    "chat = pd.concat(dfs, ignore_index=True)\n",
    "\n",
    "# Define Pattern for Message rows\n",
    "pattern = r'\\d{2}\\.\\d{2}\\.\\d{2}, \\d{2}:\\d{2} - .+: .*'\n",
    "\n",
    "# Filter the rows\n",
    "chat = chat[chat['Text'].str.match(pattern)]\n",
    "chat = chat[~chat['Text'].str.contains(r'(<Media Excluded>|null)')]\n",
    "\n",
    "# Extract Date\n",
    "chat['Date'] = chat['Text'].str.split(' - ').str[0]\n",
    "\n",
    "# Extract Author\n",
    "chat['Author']=  chat.apply(lambda row: row['Text'].replace(row['Date'] + ' - ', ''), axis=1)\n",
    "\n",
    "# Extract Chat - Adjust \"WhatsApp-Chat mit \" with your filename pattern\n",
    "chat['Chat'] = chat['Filename'].str.replace('WhatsApp-Chat mit ', '').str.replace('.txt', '')\n",
    "\n",
    "# Split Author column to Author and Message\n",
    "chat[['Author', 'Message']] = chat['Author'].str.split(': ', n=1, expand=True)\n",
    "\n",
    "# Filter relevant columns\n",
    "chat = chat[['Date','Author','Message','Chat']]"
   ]
  }
 ],
 "metadata": {
  "kernelspec": {
   "display_name": "Python 3 (ipykernel)",
   "language": "python",
   "name": "python3"
  },
  "language_info": {
   "codemirror_mode": {
    "name": "ipython",
    "version": 3
   },
   "file_extension": ".py",
   "mimetype": "text/x-python",
   "name": "python",
   "nbconvert_exporter": "python",
   "pygments_lexer": "ipython3",
   "version": "3.11.9"
  }
 },
 "nbformat": 4,
 "nbformat_minor": 5
}
