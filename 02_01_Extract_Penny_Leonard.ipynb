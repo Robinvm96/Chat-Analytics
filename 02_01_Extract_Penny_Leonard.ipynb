{
 "cells": [
  {
   "cell_type": "code",
   "execution_count": null,
   "id": "7b8d6251-0cce-4426-b1b2-5047a5319f17",
   "metadata": {},
   "outputs": [],
   "source": [
    "import pandas as pd\n",
    "import numpy as np\n",
    "\n",
    "\n",
    "data = pd.read_csv(r\"\\1_10_seasons_tbbt.csv\") # Enter Input\n",
    "data.rename(columns={'dialogue': 'Message','person_scene': 'Author'}, inplace=True)\n",
    "data['Scene'] = np.where(data['Author'] == 'Scene', 1, 0).cumsum()\n",
    "data = data[data['Author']!='Scene']\n",
    "data\n"
   ]
  },
  {
   "cell_type": "code",
   "execution_count": 11,
   "id": "cbe0449d-d9a5-4319-8496-32cd237ef8b1",
   "metadata": {},
   "outputs": [],
   "source": [
    "aggregated_data = (\n",
    "    data.groupby('Scene')\n",
    "    .agg(\n",
    "        unique_authors_count=('Author', 'nunique'),   # Count distinct authors\n",
    "        unique_authors_list=('Author', lambda x: list(x.unique()))  # Unique concatenate as list\n",
    "    )\n",
    "    .reset_index()\n",
    ")\n",
    "# Filter conditions\n",
    "filtered_data = aggregated_data[\n",
    "    (aggregated_data['unique_authors_count'] == 2) &\n",
    "    (aggregated_data['unique_authors_list'].apply(lambda x: set(['Penny', 'Leonard']).issubset(x)))\n",
    "]\n",
    "\n",
    "data = data.merge(filtered_data[['Scene']], on='Scene', how='inner')\n",
    "\n",
    "\n",
    "data['Message'] = data['Message'].fillna('')\n",
    "\n",
    "\n",
    "data['Message'] = data['Message'].astype(str)\n",
    "\n",
    "data.to_csv(r\"\\BBT_Leonard_Penny.csv\",index=False) # Output"
   ]
  }
 ],
 "metadata": {
  "kernelspec": {
   "display_name": "Python 3 (ipykernel)",
   "language": "python",
   "name": "python3"
  },
  "language_info": {
   "codemirror_mode": {
    "name": "ipython",
    "version": 3
   },
   "file_extension": ".py",
   "mimetype": "text/x-python",
   "name": "python",
   "nbconvert_exporter": "python",
   "pygments_lexer": "ipython3",
   "version": "3.11.9"
  }
 },
 "nbformat": 4,
 "nbformat_minor": 5
}
